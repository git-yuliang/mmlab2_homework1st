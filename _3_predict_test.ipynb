{
 "cells": [
  {
   "attachments": {},
   "cell_type": "markdown",
   "id": "466a64ed-7068-4a92-9755-84ea56de799d",
   "metadata": {},
   "source": [
    "# 我的耳朵检测预测-命令行"
   ]
  },
  {
   "cell_type": "markdown",
   "id": "90f3a192-6e82-493d-ad66-f3c8cf16ece5",
   "metadata": {
    "tags": []
   },
   "source": [
    "## 进入 mmpose 主目录"
   ]
  },
  {
   "cell_type": "code",
   "execution_count": 1,
   "id": "801da2ce-97c1-47a2-a211-86336b6f0679",
   "metadata": {},
   "outputs": [],
   "source": [
    "import os\n",
    "path0 = '/home/liangyu/code/mmlab2/2023AI/0601/ear_test/MMPosehomework/content1/'\n",
    "os.chdir(path0)"
   ]
  },
  {
   "cell_type": "code",
   "execution_count": 2,
   "id": "0b600d07",
   "metadata": {},
   "outputs": [],
   "source": [
    "os.chdir('mmpose')"
   ]
  },
  {
   "cell_type": "code",
   "execution_count": 3,
   "id": "692e424d",
   "metadata": {},
   "outputs": [
    {
     "data": {
      "text/plain": [
       "'/home/liangyu/code/mmlab2/2023AI/0601/ear_test/MMPosehomework/content1/mmpose'"
      ]
     },
     "execution_count": 3,
     "metadata": {},
     "output_type": "execute_result"
    }
   ],
   "source": [
    "pwd"
   ]
  },
  {
   "cell_type": "code",
   "execution_count": 4,
   "id": "064ec7a5-b4e2-4197-9a7c-d77c8968f73c",
   "metadata": {},
   "outputs": [],
   "source": [
    "## 目标检测模型\n",
    "\n",
    "# Faster R CNN\n",
    "# data/faster_r_cnn_triangle.py\n",
    "# checkpoint/faster_r_cnn_triangle_epoch_50_202305120846-76d9dde3.pth\n",
    "\n",
    "# RTMDet-Tiny\n",
    "# data/rtmdet_tiny_triangle.py\n",
    "# checkpoint/rtmdet_tiny_triangle_epoch_200_202305120847-3cd02a8f.pth\n",
    "\n",
    "## 关键点检测模型\n",
    "\n",
    "# data/rtmpose-s_triangle_8xb256-420e_coco-256x192.py\n",
    "# checkpoint/rtmpose_s_triangle_300-34bfaeb2_20230512.pth"
   ]
  },
  {
   "cell_type": "code",
   "execution_count": 6,
   "id": "d9c5dd80",
   "metadata": {},
   "outputs": [
    {
     "data": {
      "text/plain": [
       "'/home/liangyu/code/mmlab2/2023AI/0601/ear_test/MMPosehomework/content1/mmpose'"
      ]
     },
     "execution_count": 6,
     "metadata": {},
     "output_type": "execute_result"
    }
   ],
   "source": [
    "pwd"
   ]
  },
  {
   "cell_type": "code",
   "execution_count": 30,
   "id": "679d5519",
   "metadata": {},
   "outputs": [
    {
     "name": "stdout",
     "output_type": "stream",
     "text": [
      "Loads checkpoint by local backend from path: ../../content/work_dir/rtmpose_tiny_ear/misc_epoch_200-e980d175.pth\n",
      "Loads checkpoint by local backend from path: ../work_dir/rtmpose-s-ear/best_PCK_epoch_300.pth\n",
      "06/05 18:25:18 - mmengine - \u001b[5m\u001b[4m\u001b[33mWARNING\u001b[0m - `Visualizer` backend is not initialized because save_dir is None.\n",
      "/home/liangyu/miniconda3/envs/mmlab2/lib/python3.9/site-packages/torch/autocast_mode.py:141: UserWarning: User provided device_type of 'cuda', but CUDA is not available. Disabling\n",
      "  warnings.warn('User provided device_type of \\'cuda\\', but CUDA is not available. Disabling')\n",
      "/home/liangyu/miniconda3/envs/mmlab2/lib/python3.9/site-packages/torch/functional.py:445: UserWarning: torch.meshgrid: in an upcoming release, it will be required to pass the indexing argument. (Triggered internally at  ../aten/src/ATen/native/TensorShape.cpp:2157.)\n",
      "  return _VF.meshgrid(tensors, **kwargs)  # type: ignore[attr-defined]\n",
      "/home/liangyu/code/mmlab2/2023AI/0601/ear_test/MMPosehomework/content1/mmpose/mmpose/models/heads/coord_cls_heads/rtmcc_head.py:217: UserWarning: The predicted simcc values are normalized for visualization. This may cause discrepancy between the keypoint scores and the 1D heatmaps.\n",
      "  warnings.warn('The predicted simcc values are normalized for '\n"
     ]
    }
   ],
   "source": [
    "# RTMDet\n",
    "# !python demo/image_demo.py \\\n",
    "#         ../rtmpose-s-ear.py  \\\n",
    "#         ../work_dir/rtmpose-s-ear/misc_epoch_300.pth \\\n",
    "#         --input ../../my_ear/4061685957584.jpg \\\n",
    "#         --output-root ../../my_ear \\\n",
    "#         --device cpu \\\n",
    "#         --pred-score-thr 0.3\n",
    "        \n",
    "!python demo/topdown_demo_with_mmdet.py \\\n",
    "        ../../content/rtmdet_tiny_ear.py \\\n",
    "        ../../content/work_dir/rtmpose_tiny_ear/misc_epoch_200-e980d175.pth \\\n",
    "        ../rtmpose-s-ear.py \\\n",
    "        ../work_dir/rtmpose-s-ear/best_PCK_epoch_300.pth \\\n",
    "        --input /home/liangyu/code/mmlab2/2023AI/0601/ear_test/MMPosehomework/my_ear/4061685957584.jpg \\\n",
    "        --output-root /home/liangyu/code/mmlab2/2023AI/0601/ear_test/MMPosehomework/my_ear_results \\\n",
    "        --device cpu \\\n",
    "        --bbox-thr 0.5 \\\n",
    "        --kpt-thr 0.5 \\\n",
    "        --nms-thr 0.3 \\\n",
    "        --radius 20 \\\n",
    "        --thickness 20 \\\n",
    "        --draw-bbox \\\n",
    "        --draw-heatmap \\\n",
    "        --show-kpt-idx"
   ]
  },
  {
   "cell_type": "markdown",
   "id": "8ed4d058-f23c-40d1-a662-910cce1be52b",
   "metadata": {},
   "source": [
    "## 单张图像-关键点检测预测"
   ]
  },
  {
   "cell_type": "markdown",
   "id": "dd73e683-9186-4868-ade0-ea8dfa5bacd8",
   "metadata": {},
   "source": [
    "## 视频-关键点检测预测"
   ]
  },
  {
   "cell_type": "code",
   "execution_count": 33,
   "id": "22c18333-b46a-4072-bc2a-42a82edf9c3e",
   "metadata": {},
   "outputs": [
    {
     "name": "stdout",
     "output_type": "stream",
     "text": [
      "Loads checkpoint by local backend from path: ../../content/work_dir/rtmpose_tiny_ear/misc_epoch_200-e980d175.pth\n",
      "Loads checkpoint by local backend from path: ../work_dir/rtmpose-s-ear/best_PCK_epoch_300.pth\n",
      "06/05 18:32:25 - mmengine - \u001b[5m\u001b[4m\u001b[33mWARNING\u001b[0m - `Visualizer` backend is not initialized because save_dir is None.\n",
      "/home/liangyu/miniconda3/envs/mmlab2/lib/python3.9/site-packages/torch/autocast_mode.py:141: UserWarning: User provided device_type of 'cuda', but CUDA is not available. Disabling\n",
      "  warnings.warn('User provided device_type of \\'cuda\\', but CUDA is not available. Disabling')\n",
      "/home/liangyu/miniconda3/envs/mmlab2/lib/python3.9/site-packages/torch/functional.py:445: UserWarning: torch.meshgrid: in an upcoming release, it will be required to pass the indexing argument. (Triggered internally at  ../aten/src/ATen/native/TensorShape.cpp:2157.)\n",
      "  return _VF.meshgrid(tensors, **kwargs)  # type: ignore[attr-defined]\n",
      "/home/liangyu/code/mmlab2/2023AI/0601/ear_test/MMPosehomework/content1/mmpose/mmpose/models/heads/coord_cls_heads/rtmcc_head.py:217: UserWarning: The predicted simcc values are normalized for visualization. This may cause discrepancy between the keypoint scores and the 1D heatmaps.\n",
      "  warnings.warn('The predicted simcc values are normalized for '\n",
      "/home/liangyu/code/mmlab2/2023AI/0601/ear_test/MMPosehomework/content1/mmpose/mmpose/structures/utils.py:36: UserWarning: Try to merge an empty list of data samples.\n",
      "  warnings.warn('Try to merge an empty list of data samples.')\n"
     ]
    }
   ],
   "source": [
    "# RTMDet --> RTMPose\n",
    "!python demo/topdown_demo_with_mmdet.py \\\n",
    "        ../../content/rtmdet_tiny_ear.py \\\n",
    "        ../../content/work_dir/rtmpose_tiny_ear/misc_epoch_200-e980d175.pth \\\n",
    "        ../rtmpose-s-ear.py \\\n",
    "        ../work_dir/rtmpose-s-ear/best_PCK_epoch_300.pth \\\n",
    "        --input /home/liangyu/code/mmlab2/2023AI/0601/ear_test/MMPosehomework/my_ear/405_1685957583.mp4 \\\n",
    "        --output-root /home/liangyu/code/mmlab2/2023AI/0601/ear_test/MMPosehomework/my_ear_results \\\n",
    "        --device cpu \\\n",
    "        --bbox-thr 0.2 \\\n",
    "        --kpt-thr 0.3 \\\n",
    "        --nms-thr 0.2 \\\n",
    "        --radius 13 \\\n",
    "        --thickness 13 \\\n",
    "        --draw-bbox \\\n",
    "        --draw-heatmap \\\n",
    "        --show-kpt-idx"
   ]
  },
  {
   "cell_type": "code",
   "execution_count": null,
   "id": "9c211bac",
   "metadata": {},
   "outputs": [],
   "source": []
  },
  {
   "cell_type": "code",
   "execution_count": null,
   "id": "b57c3d86-42a8-4891-918d-ba2556aebe06",
   "metadata": {},
   "outputs": [],
   "source": []
  }
 ],
 "metadata": {
  "kernelspec": {
   "display_name": "Python 3 (ipykernel)",
   "language": "python",
   "name": "python3"
  },
  "language_info": {
   "codemirror_mode": {
    "name": "ipython",
    "version": 3
   },
   "file_extension": ".py",
   "mimetype": "text/x-python",
   "name": "python",
   "nbconvert_exporter": "python",
   "pygments_lexer": "ipython3",
   "version": "3.9.16"
  }
 },
 "nbformat": 4,
 "nbformat_minor": 5
}
