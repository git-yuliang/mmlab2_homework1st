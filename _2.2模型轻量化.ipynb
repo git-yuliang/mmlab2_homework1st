{
 "cells": [
  {
   "cell_type": "markdown",
   "id": "095a94a6-89fb-4e7b-85b0-32244b3862c8",
   "metadata": {},
   "source": [
    "## 进入mmdetection主目录"
   ]
  },
  {
   "cell_type": "code",
   "execution_count": 10,
   "id": "7f50ec01-d4f2-4009-88d9-a8fb96d605b8",
   "metadata": {},
   "outputs": [],
   "source": [
    "import os\n",
    "path0 = '/home/liangyu/code/mmlab2/2023AI/0601/ear_test/MMPosehomework/content/'\n",
    "os.chdir(path0)\n",
    "# import os\n",
    "# os.chdir(path0 + 'mmdetection')"
   ]
  },
  {
   "cell_type": "markdown",
   "id": "3ed5b805-2e18-45b5-a062-8b7338eb7b89",
   "metadata": {},
   "source": [
    "## 导入工具包"
   ]
  },
  {
   "cell_type": "code",
   "execution_count": 11,
   "id": "5245a2db-e693-4c0f-be85-33a93122bebd",
   "metadata": {},
   "outputs": [],
   "source": [
    "import pandas as pd\n",
    "from tqdm import tqdm\n",
    "\n",
    "import matplotlib.pyplot as plt\n",
    "%matplotlib inline\n",
    "plt.rcParams['axes.unicode_minus']=False  # 用来正常显示负号\n"
   ]
  },
  {
   "cell_type": "code",
   "execution_count": 12,
   "id": "0b60039a",
   "metadata": {},
   "outputs": [
    {
     "data": {
      "text/plain": [
       "'/home/liangyu/code/mmlab2/2023AI/0601/ear_test/MMPosehomework/content'"
      ]
     },
     "execution_count": 12,
     "metadata": {},
     "output_type": "execute_result"
    }
   ],
   "source": [
    "pwd"
   ]
  },
  {
   "cell_type": "code",
   "execution_count": 13,
   "id": "181a2716",
   "metadata": {},
   "outputs": [],
   "source": [
    "os.chdir('mmdetection')"
   ]
  },
  {
   "cell_type": "code",
   "execution_count": 14,
   "id": "713bc66e",
   "metadata": {},
   "outputs": [
    {
     "name": "stdout",
     "output_type": "stream",
     "text": [
      "06/05 18:18:04 - mmengine - \u001b[4m\u001b[97mINFO\u001b[0m - Key `message_hub` will be removed because it is not in save_keys. If you want to keep it, please set --save-keys.\n",
      "06/05 18:18:04 - mmengine - \u001b[4m\u001b[97mINFO\u001b[0m - Key `optimizer` will be removed because it is not in save_keys. If you want to keep it, please set --save-keys.\n",
      "06/05 18:18:04 - mmengine - \u001b[4m\u001b[97mINFO\u001b[0m - Key `param_schedulers` will be removed because it is not in save_keys. If you want to keep it, please set --save-keys.\n",
      "06/05 18:18:04 - mmengine - \u001b[4m\u001b[97mINFO\u001b[0m - Key `ema_state_dict` will be removed because it is not in save_keys. If you want to keep it, please set --save-keys.\n",
      "06/05 18:18:04 - mmengine - \u001b[4m\u001b[97mINFO\u001b[0m - The published model is saved at ../work_dir/rtmpose_tiny_ear/misc_epoch_200-e980d175.pth.\n"
     ]
    }
   ],
   "source": [
    "!python tools/model_converters/publish_model.py \\\n",
    "        ../work_dir/rtmpose_tiny_ear/epoch_200.pth \\\n",
    "        ../work_dir/rtmpose_tiny_ear/misc_epoch_200.pth"
   ]
  },
  {
   "cell_type": "code",
   "execution_count": null,
   "id": "46eb15d9",
   "metadata": {},
   "outputs": [],
   "source": []
  }
 ],
 "metadata": {
  "kernelspec": {
   "display_name": "Python 3 (ipykernel)",
   "language": "python",
   "name": "python3"
  },
  "language_info": {
   "codemirror_mode": {
    "name": "ipython",
    "version": 3
   },
   "file_extension": ".py",
   "mimetype": "text/x-python",
   "name": "python",
   "nbconvert_exporter": "python",
   "pygments_lexer": "ipython3",
   "version": "3.9.16"
  }
 },
 "nbformat": 4,
 "nbformat_minor": 5
}
